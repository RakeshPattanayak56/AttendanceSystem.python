{
 "cells": [
  {
   "cell_type": "code",
   "execution_count": 1,
   "metadata": {},
   "outputs": [],
   "source": [
    "import face_recognition as fr\n",
    "import cv2\n",
    "import numpy as np\n",
    "import pandas as pd \n",
    "import os\n",
    "import matplotlib.pyplot as plt\n",
    "%matplotlib inline\n",
    "from datetime import datetime\n",
    "import pickle"
   ]
  },
  {
   "cell_type": "code",
   "execution_count": 2,
   "metadata": {},
   "outputs": [],
   "source": [
    "path = \"F:/Durham/Courses/AIDI/S2/2005 Capstone 2/Project/face-recognition-python-code/train/\"\n",
    "\n",
    "known_names = []\n",
    "known_name_encodings = []"
   ]
  },
  {
   "cell_type": "code",
   "execution_count": 3,
   "metadata": {},
   "outputs": [],
   "source": [
    "images = os.listdir(path)\n",
    "for _ in images:\n",
    "    image = fr.load_image_file(path + _)\n",
    "    image_path = path + _\n",
    "    encoding = fr.face_encodings(image)[0]\n",
    "\n",
    "    known_name_encodings.append(encoding)\n",
    "    known_names.append(os.path.splitext(os.path.basename(image_path))[0].capitalize())"
   ]
  },
  {
   "cell_type": "code",
   "execution_count": 4,
   "metadata": {},
   "outputs": [
    {
     "name": "stdout",
     "output_type": "stream",
     "text": [
      "['Abraham', 'Chandler', 'Joey', 'Monica', 'Neha', 'Phoebe', 'Rachel', 'Rakesh', 'Roshna', 'Ross', 'Shanuka']\n"
     ]
    }
   ],
   "source": [
    "print(known_names)"
   ]
  },
  {
   "cell_type": "code",
   "execution_count": 14,
   "metadata": {},
   "outputs": [],
   "source": [
    "def markAttendance(name,top,right,left,bottom):            \n",
    "    df = pd.read_csv('F:/Durham/Courses/AIDI/S2/2005 Capstone 2/Project/face-recognition-python-code/Attendance.csv',index_col=False)\n",
    "    nameList = []\n",
    "    nameList = df['name'].tolist()\n",
    "    now = datetime.now()\n",
    "    time = now.strftime('%I:%M:%S:%p')\n",
    "    date = now.strftime('%d-%B-%Y')\n",
    "    if name not in nameList:\n",
    "        df2 = pd.DataFrame([[name, date, time, time,'(' + str(top) + '/' + str(bottom) + '/' + str(left) + '/' + str(right) + ')']], \n",
    "                           columns=['name','date','timein','timeout','location'])\n",
    "        df = df.append(df2, ignore_index=False)\n",
    "    else: \n",
    "        df.loc[df[\"name\"] == name, \"timeout\"] = time    \n",
    "    df.to_csv('F:/Durham/Courses/AIDI/S2/2005 Capstone 2/Project/face-recognition-python-code/Attendance.csv',index=False)"
   ]
  },
  {
   "cell_type": "code",
   "execution_count": 15,
   "metadata": {},
   "outputs": [],
   "source": [
    "source=cv2.VideoCapture(0)"
   ]
  },
  {
   "cell_type": "code",
   "execution_count": 17,
   "metadata": {},
   "outputs": [],
   "source": [
    "source=cv2.VideoCapture(0)\n",
    "while(True):\n",
    "\n",
    "    ret,img=source.read()\n",
    "    #imgS = cv2.resize(img, (0,0), None, 0.25,0.25)\n",
    "    imgS = cv2.cvtColor(img, cv2.COLOR_BGR2RGB)\n",
    "    face_locations_test = fr.face_locations(imgS)\n",
    "    face_encodings_test = fr.face_encodings(imgS, face_locations_test)\n",
    "    for (top, right, bottom, left), face_encoding in zip(face_locations_test, face_encodings_test):\n",
    "        matches = fr.compare_faces(known_name_encodings, face_encoding)\n",
    "        name = \"\"\n",
    "\n",
    "        face_distances = fr.face_distance(known_name_encodings, face_encoding)\n",
    "        best_match = np.argmin(face_distances)\n",
    "\n",
    "        if matches[best_match]:\n",
    "            name = known_names[best_match]\n",
    "\n",
    "        cv2.rectangle(imgS, (left, bottom), (right, top), (0, 0, 255), 2)\n",
    "        cv2.rectangle(imgS, (left, bottom - 10), (right, bottom), (0, 255, 0), cv2.FILLED)\n",
    "        font = cv2.FONT_HERSHEY_DUPLEX\n",
    "        cv2.putText(imgS, name, (left + 6, bottom - 6), font, 0.5, (255, 255, 255), 1)\n",
    "        \n",
    "        markAttendance(name,top,right,left,bottom)\n",
    "        \n",
    "    cv2.imshow('LIVE',imgS)\n",
    "    key=cv2.waitKey(1)\n",
    "    \n",
    "    if(key==27):\n",
    "        break\n",
    "        \n",
    "cv2.destroyAllWindows()\n",
    "source.release()"
   ]
  }
 ],
 "metadata": {
  "kernelspec": {
   "display_name": "Python 3 (ipykernel)",
   "language": "python",
   "name": "python3"
  },
  "language_info": {
   "codemirror_mode": {
    "name": "ipython",
    "version": 3
   },
   "file_extension": ".py",
   "mimetype": "text/x-python",
   "name": "python",
   "nbconvert_exporter": "python",
   "pygments_lexer": "ipython3",
   "version": "3.9.7"
  }
 },
 "nbformat": 4,
 "nbformat_minor": 4
}
